{
 "cells": [
  {
   "cell_type": "code",
   "execution_count": 4,
   "id": "0f52329d",
   "metadata": {},
   "outputs": [
    {
     "name": "stdout",
     "output_type": "stream",
     "text": [
      "     1 \n",
      "    2 2 \n",
      "   3 3 3 \n",
      "  4 4 4 4 \n",
      " 5 5 5 5 5 \n"
     ]
    }
   ],
   "source": [
    "n=5                    #pattern_12\n",
    "i=1\n",
    "while i<=n:\n",
    "    print(\" \"*(n-i),end=\" \")\n",
    "    j=1\n",
    "    while j<=i:\n",
    "        print(i,end=\" \")\n",
    "        j=j+1\n",
    "    print()\n",
    "    i=i+1"
   ]
  },
  {
   "cell_type": "code",
   "execution_count": 29,
   "id": "637b59d2",
   "metadata": {},
   "outputs": [
    {
     "name": "stdout",
     "output_type": "stream",
     "text": [
      "5 \n",
      "5 4 \n",
      "5 4 3 \n",
      "5 4 3 2 \n",
      "5 4 3 2 1 \n"
     ]
    }
   ],
   "source": [
    "x=6               #pattern_16\n",
    "i=1\n",
    "while i<x:\n",
    "    j=1\n",
    "    while j<=i:\n",
    "        print((x-j),end=\" \")\n",
    "        j=j+1\n",
    "    print()\n",
    "    i=i+1\n"
   ]
  },
  {
   "cell_type": "code",
   "execution_count": 320,
   "id": "f7952c31",
   "metadata": {},
   "outputs": [
    {
     "name": "stdout",
     "output_type": "stream",
     "text": [
      "         * \n",
      "       * * * \n",
      "     * * * * * \n",
      "   * * * * * * * \n",
      " * * * * * * * * * \n"
     ]
    }
   ],
   "source": [
    "n=10\n",
    "i = 0\n",
    "while i<n:\n",
    "    k=(n-i)\n",
    "    while k>1:\n",
    "        print(\" \", end=\"\")\n",
    "        k=k-1\n",
    "    j=i+1\n",
    "    while j>0:\n",
    "        print(\"*\", end=\" \")\n",
    "        j=j-1\n",
    "    print()\n",
    "    i=i+2"
   ]
  },
  {
   "cell_type": "code",
   "execution_count": 28,
   "id": "0d8ca0c6",
   "metadata": {},
   "outputs": [
    {
     "name": "stdout",
     "output_type": "stream",
     "text": [
      "1 \n",
      "2 2 \n",
      "3 3 3 \n",
      "4 4 4 4 \n",
      "5 5 5 5 5 \n"
     ]
    }
   ],
   "source": [
    "x = 5  #pattern_4\n",
    "i = 1\n",
    "while i <= x:\n",
    "    j = 1\n",
    "    while j <= i:\n",
    "        print(i, end=\" \")\n",
    "        j = j + 1\n",
    "    print()\n",
    "    i = i + 1\n"
   ]
  },
  {
   "cell_type": "code",
   "execution_count": 202,
   "id": "dc52038b",
   "metadata": {},
   "outputs": [
    {
     "name": "stdout",
     "output_type": "stream",
     "text": [
      "\n",
      "1 \n",
      "1 2 \n",
      "1 2 3 \n",
      "1 2 3 4 \n",
      "1 2 3 4 5 \n"
     ]
    }
   ],
   "source": [
    "x=5                    #pattern_1\n",
    "i=0\n",
    "while i<=x:\n",
    "    j=1\n",
    "    while j<=i:\n",
    "        print((j),end=\" \")\n",
    "        j=j+1\n",
    "    print()\n",
    "    i=i+1"
   ]
  },
  {
   "cell_type": "code",
   "execution_count": 104,
   "id": "ec4a9e5c",
   "metadata": {},
   "outputs": [
    {
     "name": "stdout",
     "output_type": "stream",
     "text": [
      "     *      \n",
      "    ***     \n",
      "   *****    \n",
      "  *******   \n",
      " *********  \n"
     ]
    }
   ],
   "source": [
    "n=9\n",
    "i=1\n",
    "while i<=n:\n",
    "    v=str(i*\"*\")\n",
    "    print(v.center(12,\" \"))\n",
    "    i=i+2"
   ]
  },
  {
   "cell_type": "code",
   "execution_count": 45,
   "id": "9c029ec0",
   "metadata": {},
   "outputs": [
    {
     "name": "stdout",
     "output_type": "stream",
     "text": [
      " *********  \n",
      "  *******   \n",
      "   *****    \n",
      "    ***     \n",
      "     *      \n"
     ]
    }
   ],
   "source": [
    "n=1\n",
    "i=9\n",
    "while i>=n:\n",
    "    v=str(i*\"*\")\n",
    "    print(v.center(12,\" \"))\n",
    "    i=i-2"
   ]
  },
  {
   "cell_type": "code",
   "execution_count": 311,
   "id": "533c7bf7",
   "metadata": {},
   "outputs": [
    {
     "name": "stdout",
     "output_type": "stream",
     "text": [
      "   1 \n",
      "  1 2 \n",
      " 1 2 3 \n",
      "1 2 3 4 \n",
      "1 2 3 4 5 \n"
     ]
    }
   ],
   "source": [
    "x=6           #pattern_7\n",
    "i=1\n",
    "while i<x:\n",
    "    k=(n-i)\n",
    "    while k>1:\n",
    "        print(\" \", end=\"\")\n",
    "        k=k-1\n",
    "    j=1\n",
    "    while j<=i:\n",
    "        print(j,end=\" \")\n",
    "        j=j+1\n",
    "    print()\n",
    "    i=i+1"
   ]
  },
  {
   "cell_type": "code",
   "execution_count": 59,
   "id": "e474cb1f",
   "metadata": {},
   "outputs": [
    {
     "name": "stdout",
     "output_type": "stream",
     "text": [
      "5 4 3 2 1 \n",
      "5 4 3 2 \n",
      "5 4 3 \n",
      "5 4 \n",
      "5 \n"
     ]
    }
   ],
   "source": [
    "n=5                    #pattern_15\n",
    "i=1\n",
    "while i<=n:\n",
    "    j=n\n",
    "    while j>=i:\n",
    "        print((j),end=\" \")\n",
    "        j=j-1\n",
    "    print()\n",
    "    i=i+1"
   ]
  },
  {
   "cell_type": "code",
   "execution_count": 98,
   "id": "67cc5674",
   "metadata": {},
   "outputs": [
    {
     "name": "stdout",
     "output_type": "stream",
     "text": [
      "1 2 3 4 5 \n",
      "1 2 3 4 \n",
      "1 2 3 \n",
      "1 2 \n",
      "1 \n",
      "\n"
     ]
    }
   ],
   "source": [
    "n=6                   #pattern_14\n",
    "i=1\n",
    "while i<=n:\n",
    "    j=n-1\n",
    "    while j>=i:\n",
    "        print((n-j),end=\" \")\n",
    "        j=j-1\n",
    "    print()\n",
    "    i=i+1"
   ]
  },
  {
   "cell_type": "code",
   "execution_count": 86,
   "id": "f2c94942",
   "metadata": {},
   "outputs": [
    {
     "name": "stdout",
     "output_type": "stream",
     "text": [
      "      A \n",
      "     B B \n",
      "    C C C \n",
      "   D D D D \n",
      "  E E E E E \n"
     ]
    }
   ],
   "source": [
    "i=0            #pattern_13\n",
    "n=5\n",
    "while i<n:\n",
    "    print(\" \"*(n-i),end=\" \")\n",
    "    j=0\n",
    "    while j-1<i:\n",
    "        print(chr(65+i),end=\" \")\n",
    "        j=j+1\n",
    "    print()\n",
    "    i=i+1"
   ]
  },
  {
   "cell_type": "code",
   "execution_count": 101,
   "id": "431ea51f",
   "metadata": {},
   "outputs": [
    {
     "name": "stdout",
     "output_type": "stream",
     "text": [
      "      A \n",
      "     A B \n",
      "    A B C \n",
      "   A B C D \n",
      "  A B C D E \n"
     ]
    }
   ],
   "source": [
    "i=0               #pattern_9\n",
    "n=5\n",
    "while i<n:\n",
    "    print(\" \"*(n-i),end=\" \")\n",
    "    j=0\n",
    "    while j-1<i:\n",
    "        print(chr(65+j),end=\" \")\n",
    "        j=j+1\n",
    "    print()\n",
    "    i=i+1"
   ]
  },
  {
   "cell_type": "code",
   "execution_count": 126,
   "id": "cd462996",
   "metadata": {},
   "outputs": [
    {
     "name": "stdout",
     "output_type": "stream",
     "text": [
      "A \n",
      "B B \n",
      "C C C \n",
      "D D D D \n",
      "E E E E E \n"
     ]
    }
   ],
   "source": [
    "i=1                          #pattern_5\n",
    "x=5\n",
    "while i<=x:\n",
    "    j=1\n",
    "    while j<=i:\n",
    "        print(chr(64+i),end=\" \")\n",
    "        j=j+1\n",
    "    print()\n",
    "    i=i+1"
   ]
  },
  {
   "cell_type": "code",
   "execution_count": 114,
   "id": "759b0843",
   "metadata": {},
   "outputs": [
    {
     "name": "stdout",
     "output_type": "stream",
     "text": [
      "A \n",
      "A B \n",
      "A B C \n",
      "A B C D \n",
      "A B C D E \n"
     ]
    }
   ],
   "source": [
    "i=1                  #patten_2\n",
    "x=5\n",
    "while i<=x:\n",
    "    j=1\n",
    "    while j<=i:\n",
    "        print(chr(64+j),end=\" \")\n",
    "        j=j+1\n",
    "    print()\n",
    "    i=i+1"
   ]
  },
  {
   "cell_type": "code",
   "execution_count": 302,
   "id": "3fc07b59",
   "metadata": {},
   "outputs": [
    {
     "name": "stdout",
     "output_type": "stream",
     "text": [
      "      E \n",
      "     E D \n",
      "    E D C \n",
      "   E D C B \n",
      "  E D C B A \n"
     ]
    }
   ],
   "source": [
    "i=0\n",
    "n=5\n",
    "while i<n:\n",
    "    print(\" \"*(n-i),end=\" \")\n",
    "    j=0\n",
    "    while j-1<i:\n",
    "        print(chr(69-j),end=\" \")\n",
    "        j=j+1\n",
    "    print()\n",
    "    i=i+1"
   ]
  },
  {
   "cell_type": "code",
   "execution_count": 159,
   "id": "8ece8910",
   "metadata": {},
   "outputs": [
    {
     "name": "stdout",
     "output_type": "stream",
     "text": [
      "A B C D E \n",
      "A B C D \n",
      "A B C \n",
      "A B \n",
      "A \n"
     ]
    }
   ],
   "source": [
    "n=5                         #pattern_18\n",
    "i=1\n",
    "while i<=n:\n",
    "    j=n\n",
    "    while j>=i:\n",
    "        print(chr(70-j),end=\" \")\n",
    "        j=j-1\n",
    "    print()\n",
    "    i=i+1"
   ]
  },
  {
   "cell_type": "code",
   "execution_count": 166,
   "id": "e9e91a3f",
   "metadata": {},
   "outputs": [
    {
     "name": "stdout",
     "output_type": "stream",
     "text": [
      "\n",
      "1 \n",
      "2 3 \n",
      "4 5 6 \n",
      "7 8 9 10 \n",
      "11 12 13 14 15 \n"
     ]
    }
   ],
   "source": [
    "n=6          #pattern_17\n",
    "i=1\n",
    "k=1\n",
    "while i<=n:\n",
    "    j=1\n",
    "    while j<i:\n",
    "        print(k,end=\" \")\n",
    "        j=j+1\n",
    "        k=k+1\n",
    "    print()\n",
    "    i=i+1"
   ]
  },
  {
   "cell_type": "code",
   "execution_count": 206,
   "id": "c28c1ea0",
   "metadata": {},
   "outputs": [
    {
     "name": "stdout",
     "output_type": "stream",
     "text": [
      "* \n",
      "* * \n",
      "* * * \n",
      "* * * * \n"
     ]
    }
   ],
   "source": [
    "x=4\n",
    "i=1\n",
    "while i<=x:\n",
    "    j=1\n",
    "    while j<=i:\n",
    "        print(\"*\",end=\" \")\n",
    "        j=j+1\n",
    "    print()\n",
    "    i=i+1"
   ]
  },
  {
   "cell_type": "code",
   "execution_count": 192,
   "id": "94228886",
   "metadata": {},
   "outputs": [
    {
     "name": "stdout",
     "output_type": "stream",
     "text": [
      "         *\n",
      "       * *\n",
      "     * * *\n",
      "   * * * *\n"
     ]
    }
   ],
   "source": [
    "n=4\n",
    "i = 0\n",
    "while i<n:\n",
    "    k=(n-i)\n",
    "    while k>0:\n",
    "        print(\"  \", end=\"\")\n",
    "        k=k-1\n",
    "    j=i+1\n",
    "    while j>0:\n",
    "        print(\" *\",end=\"\")\n",
    "        j=j-1\n",
    "    print()\n",
    "    i=i+1"
   ]
  },
  {
   "cell_type": "code",
   "execution_count": 262,
   "id": "fc479d15",
   "metadata": {},
   "outputs": [
    {
     "name": "stdout",
     "output_type": "stream",
     "text": [
      "     *\n",
      "    * *\n",
      "   *   *\n",
      "  *     *\n",
      " * * * * *\n"
     ]
    }
   ],
   "source": [
    "i=0\n",
    "n=5\n",
    "while i<5:\n",
    "    if i==0:\n",
    "        print(\" \"*(n-i)+\"*\")\n",
    "    elif i==4:\n",
    "        print(\" *\"*(i+1))\n",
    "    else:\n",
    "        print(\" \"*(4-i)+\" *\"+\" \"*((i*2)-1)+\"*\")\n",
    "    i=i+1\n",
    "        "
   ]
  },
  {
   "cell_type": "code",
   "execution_count": 220,
   "id": "a8812576",
   "metadata": {},
   "outputs": [
    {
     "name": "stdout",
     "output_type": "stream",
     "text": [
      " * * * * *\n",
      "  *     *\n",
      "   *   *\n",
      "    * *\n",
      "     *\n"
     ]
    }
   ],
   "source": [
    "i=0\n",
    "n=5\n",
    "while i<5:\n",
    "    if i==0:\n",
    "        print(\" *\"*(n))\n",
    "    elif i==4:\n",
    "        print(\" \"*i+\" *\")\n",
    "    else:\n",
    "        print(\" \"*(i+1)+\"*\"+\" \"*(((4-i)*2-1))+\"*\")\n",
    "    i=i+1"
   ]
  },
  {
   "cell_type": "code",
   "execution_count": 237,
   "id": "fa8e1727",
   "metadata": {},
   "outputs": [
    {
     "name": "stdout",
     "output_type": "stream",
     "text": [
      "     *\n",
      "    * *\n",
      "   *   *\n",
      "  *     *\n",
      " *       * \n",
      "  *     * \n",
      "   *   * \n",
      "    * * \n",
      "     *\n"
     ]
    }
   ],
   "source": [
    "i=0\n",
    "n=9\n",
    "while i<n:\n",
    "    if i==0:\n",
    "        print(\" \"*(n-4)+\"*\")\n",
    "    elif i==1 or i==2 or i==3:\n",
    "        print(\" \"*(4-i)+\" *\"+\" \"*((i*2)-1)+\"*\")\n",
    "    elif i==8:\n",
    "        print(\" \"*(i-3)+\"*\")\n",
    "    else:\n",
    "        print(\" \"*(i-3)+\"*\"+\" \"*((8-i)*2-1)+\"* \")\n",
    "    i=i+1\n"
   ]
  },
  {
   "cell_type": "code",
   "execution_count": null,
   "id": "f0ba54fd",
   "metadata": {},
   "outputs": [],
   "source": []
  },
  {
   "cell_type": "code",
   "execution_count": 248,
   "id": "d71e1f95",
   "metadata": {},
   "outputs": [
    {
     "name": "stdout",
     "output_type": "stream",
     "text": [
      "***** \n",
      "**** \n",
      "*** \n",
      "** \n",
      "* \n",
      "** \n",
      "*** \n",
      "**** \n",
      "***** \n"
     ]
    }
   ],
   "source": [
    "i=0\n",
    "n=8\n",
    "while i<=n:\n",
    "    if i==0:\n",
    "        print(\"*\"*(n-3)+\" \")\n",
    "    elif i==1 or i==2 or i==3:\n",
    "        print(\"*\"*(5-i)+\" \")\n",
    "    else:\n",
    "        print(\"*\"*(i-3)+\" \")\n",
    "    i=i+1"
   ]
  },
  {
   "cell_type": "code",
   "execution_count": 253,
   "id": "3caf8e23",
   "metadata": {},
   "outputs": [
    {
     "name": "stdout",
     "output_type": "stream",
     "text": [
      "*****\n",
      "*  *\n",
      "* *\n",
      "**\n",
      "*"
     ]
    }
   ],
   "source": [
    "i=0\n",
    "n=5\n",
    "while i<n:\n",
    "    if i==0:\n",
    "        print(\"*\"*(n))\n",
    "    elif i==1 or i==2 or i==3:\n",
    "        print(\"*\"+\" \"*(3-i)+\"*\")\n",
    "    else:\n",
    "        print(\"*\",end=\"\")\n",
    "    i=i+1"
   ]
  },
  {
   "cell_type": "code",
   "execution_count": 277,
   "id": "19128b1a",
   "metadata": {},
   "outputs": [
    {
     "name": "stdout",
     "output_type": "stream",
     "text": [
      "*\n",
      "**\n",
      "* *\n",
      "*  *\n",
      "*****\n"
     ]
    }
   ],
   "source": [
    "i=1\n",
    "x=4\n",
    "while i<=x+1:\n",
    "    if i<=2 or i==5:\n",
    "        print((i)*\"*\")\n",
    "    else:\n",
    "        print(\"*\"+(i-2)*\" \"+\"*\")\n",
    "    i=i+1\n",
    "    "
   ]
  },
  {
   "cell_type": "code",
   "execution_count": 293,
   "id": "740d63ba",
   "metadata": {},
   "outputs": [
    {
     "name": "stdout",
     "output_type": "stream",
     "text": [
      "*****\n",
      "*  *\n",
      "* *\n",
      "**\n",
      "*"
     ]
    }
   ],
   "source": [
    "i=2\n",
    "x=5\n",
    "while i<=x:\n",
    "    if i==2:\n",
    "        print(x*\"*\")\n",
    "    else:\n",
    "        print((x-i)*\" \"+\"*\")\n",
    "    i=i+1\n",
    "    print(end=\"*\")"
   ]
  },
  {
   "cell_type": "code",
   "execution_count": 346,
   "id": "d0c351c9",
   "metadata": {},
   "outputs": [
    {
     "name": "stdout",
     "output_type": "stream",
     "text": [
      "*        *\n",
      "**      **\n",
      "***    ***\n",
      "****  ****\n",
      "**********\n"
     ]
    }
   ],
   "source": [
    "x=5\n",
    "i=0\n",
    "while i<x:\n",
    "    j=0\n",
    "    while j<=i:\n",
    "        print(\"*\",end=\"\")\n",
    "        j=j+1\n",
    "    k=(n-i)\n",
    "    while k>1:\n",
    "        print(\" \", end=\"\")\n",
    "        k=k-1\n",
    "    n=x-i\n",
    "    while n>1:\n",
    "        print(\"  \",end=\"\")\n",
    "        n=n-1\n",
    "    m=0\n",
    "    while m<=i:\n",
    "        print(\"*\",end=\"\")\n",
    "        m=m+1\n",
    "        \n",
    "    print(\"\")\n",
    "    i=i+1"
   ]
  },
  {
   "cell_type": "code",
   "execution_count": 339,
   "id": "8b33eb21",
   "metadata": {},
   "outputs": [
    {
     "name": "stdout",
     "output_type": "stream",
     "text": [
      "*       *\n",
      "**     **\n",
      "***   ***\n",
      "**** ****\n",
      "*********\n"
     ]
    }
   ],
   "source": [
    "n=-1\n",
    "i=7\n",
    "while i>=n:\n",
    "    v=str(i*\" \")\n",
    "    print(v.center(9,\"*\"))\n",
    "    i=i-2\n"
   ]
  },
  {
   "cell_type": "code",
   "execution_count": 357,
   "id": "5fc0ffd9",
   "metadata": {},
   "outputs": [
    {
     "name": "stdout",
     "output_type": "stream",
     "text": [
      "*********\n",
      "**** ****\n",
      "***   ***\n",
      "**     **\n",
      "*       *\n"
     ]
    }
   ],
   "source": [
    "n=7\n",
    "i=-1\n",
    "while n>=i:\n",
    "    v=str(i*\" \")\n",
    "    print(v.center(9,\"*\"))\n",
    "    i=i+2\n"
   ]
  },
  {
   "cell_type": "code",
   "execution_count": 451,
   "id": "92302bdc",
   "metadata": {},
   "outputs": [
    {
     "name": "stdout",
     "output_type": "stream",
     "text": [
      "*\n",
      "**\n",
      "***\n",
      "****\n",
      "*****\n",
      "****\n",
      "***\n",
      "**\n",
      "*\n"
     ]
    }
   ],
   "source": [
    "x=9\n",
    "i=1\n",
    "while x>=i:\n",
    "    if i==1 or i==2 or i==3 or i==4:\n",
    "        print((i)*\"*\")\n",
    "    elif i==5 or i==6 or i==7 or i==8 or i==9:\n",
    "        print(\"*\"*(11-(i+1)))\n",
    "    else:\n",
    "        print()\n",
    "    i=i+1"
   ]
  },
  {
   "cell_type": "code",
   "execution_count": 410,
   "id": "0c6b750c",
   "metadata": {},
   "outputs": [
    {
     "name": "stdout",
     "output_type": "stream",
     "text": [
      "        *\n",
      "       **\n",
      "      ***\n",
      "     ****\n",
      "    *****\n",
      "     ****\n",
      "      ***\n",
      "       **\n",
      "        *\n"
     ]
    }
   ],
   "source": [
    "x=9\n",
    "i=1\n",
    "while x>=i:\n",
    "    if i==1 or i==2 or i==3 or i==4 :\n",
    "        print(\" \"*(x-i)+(i)*\"*\")\n",
    "    elif i==5 or i==6 or i==7 or i==8 or i==9:\n",
    "        print(\" \"*(i-1)+\"*\"*(10-i))\n",
    "    else:\n",
    "        print()\n",
    "    i=i+1\n"
   ]
  },
  {
   "cell_type": "code",
   "execution_count": 420,
   "id": "9cb61b64",
   "metadata": {},
   "outputs": [
    {
     "name": "stdout",
     "output_type": "stream",
     "text": [
      "*****\n",
      "*  *\n",
      "* *\n",
      "**\n",
      "*\n",
      "**\n",
      "* *\n",
      "*  *\n",
      "*****\n"
     ]
    }
   ],
   "source": [
    "n=9\n",
    "i=1\n",
    "while i<=n:\n",
    "    if i==2 or i==3 or i==4:\n",
    "        print(\"*\"+\" \"*(n-(i+5))+\"*\")\n",
    "    elif i==1 or i==9:\n",
    "        print(\"*\"*(5))\n",
    "    elif i==5:\n",
    "        print(\"*\")\n",
    "    else:\n",
    "        print(\"*\"+\" \"*(i-6)+\"*\")\n",
    "    i=i+1"
   ]
  },
  {
   "cell_type": "code",
   "execution_count": 436,
   "id": "d41423cb",
   "metadata": {},
   "outputs": [
    {
     "name": "stdout",
     "output_type": "stream",
     "text": [
      "   *****\n",
      "    *  *\n",
      "     * *\n",
      "      **\n",
      "       *\n",
      "      **\n",
      "     * *\n",
      "    *  *\n",
      "   *****\n"
     ]
    }
   ],
   "source": [
    "n=9\n",
    "i=1\n",
    "while i<=n:\n",
    "    if i==2 or i==3 or i==4:\n",
    "        print(\" \"*(i+2)+\"*\"+(4-i)*\" \"+\"*\")\n",
    "    elif i==1:\n",
    "        print(\" \"*(4-i)+\"*\"*(n-4))\n",
    "    elif i==5:\n",
    "        print(\" \"*(7)+\"*\")\n",
    "    elif i==6 or i==7 or i==8:\n",
    "        print(\" \"*(n-(i-3))+\"*\"+\" \"*(i-6)+\"*\")\n",
    "    elif i==9:\n",
    "        print(\" \"*(3)+\"*\"*5)\n",
    "    else:\n",
    "        print()\n",
    "    i=i+1"
   ]
  },
  {
   "cell_type": "code",
   "execution_count": 5,
   "id": "02774525",
   "metadata": {},
   "outputs": [
    {
     "name": "stdout",
     "output_type": "stream",
     "text": [
      "******\n",
      "******\n",
      "******\n",
      "******\n",
      "******\n"
     ]
    }
   ],
   "source": [
    "n=6\n",
    "i=1\n",
    "while i<=n:\n",
    "    if i==1 or i==2 or i==3 or i==4 or i==6:\n",
    "        print(\"*\"*n)\n",
    "    i=i+1"
   ]
  },
  {
   "cell_type": "code",
   "execution_count": 503,
   "id": "94120f75",
   "metadata": {},
   "outputs": [
    {
     "name": "stdout",
     "output_type": "stream",
     "text": [
      " *********  \n",
      "  *******   \n",
      "   *****    \n",
      "    ***     \n",
      "     *      \n",
      "    ***     \n",
      "   *****    \n",
      "  *******   \n",
      " *********  \n"
     ]
    }
   ],
   "source": [
    "n=1\n",
    "i=9\n",
    "while i>=n:\n",
    "    v=str(i*\"*\")\n",
    "    print(v.center(12,\" \"))\n",
    "    i=i-2\n",
    "    if i<=-1:\n",
    "        x=10\n",
    "        j=n+2\n",
    "        while j<=x:\n",
    "            y=str(j*\"*\")\n",
    "            print(y.center(12,\" \"))\n",
    "            j=j+2"
   ]
  },
  {
   "cell_type": "code",
   "execution_count": 459,
   "id": "a705c4dd",
   "metadata": {},
   "outputs": [
    {
     "name": "stdout",
     "output_type": "stream",
     "text": [
      "**********\n",
      " *      *\n",
      "  *    *\n",
      "   *  *\n",
      "     *\n",
      "   *  *\n",
      "  *    *\n",
      " *      *\n",
      "**********\n"
     ]
    }
   ],
   "source": [
    "n=9\n",
    "i=1\n",
    "while i<=n:\n",
    "    if i==1 or i==9:\n",
    "        print(\"*\"*(n+1))\n",
    "    elif i==2 or i==3  or i==4:\n",
    "        print(\" \"*(i-1)+\"*\"+\"  \"*(5-i)+\"*\")\n",
    "    elif i==5:\n",
    "        print(\" \"*(i)+\"*\")\n",
    "    else:\n",
    "        print(\" \"*(n-i)+\"*\"+\"  \"*(i-5)+\"*\")\n",
    "    i=i+1"
   ]
  },
  {
   "cell_type": "code",
   "execution_count": 1,
   "id": "d1627015",
   "metadata": {},
   "outputs": [
    {
     "name": "stdout",
     "output_type": "stream",
     "text": [
      "*       *\n",
      "**     **\n",
      "***   ***\n",
      "**** ****\n",
      "*********\n",
      "**** ****\n",
      "***   ***\n",
      "**     **\n",
      "*       *\n"
     ]
    }
   ],
   "source": [
    "n=-1\n",
    "i=7\n",
    "while i>=n:\n",
    "    v=str(i*\" \")\n",
    "    print(v.center(9,\"*\"))\n",
    "    i=i-2\n",
    "    if i<=-2:\n",
    "        x=7\n",
    "        j=1\n",
    "        while j<=x:\n",
    "            y=str(j*\" \")\n",
    "            print(y.center(9,\"*\"))\n",
    "            j=j+2"
   ]
  },
  {
   "cell_type": "code",
   "execution_count": 493,
   "id": "5e19ff14",
   "metadata": {},
   "outputs": [
    {
     "name": "stdout",
     "output_type": "stream",
     "text": [
      "*********\n",
      "**** ****\n",
      "***   ***\n",
      "**     **\n",
      "*       *\n",
      "*       *\n",
      "**     **\n",
      "***   ***\n",
      "**** ****\n",
      "*********\n"
     ]
    }
   ],
   "source": [
    "n=7\n",
    "i=-1\n",
    "while i<=n:\n",
    "    v=str(i*\" \")\n",
    "    print(v.center(9,\"*\"))\n",
    "    i=i+2\n",
    "    if i==9:\n",
    "        j=7\n",
    "        x=-1\n",
    "        while j>=x:\n",
    "            y=str(j*\" \")\n",
    "            print(y.center(9,\"*\"))\n",
    "            j=j-2"
   ]
  },
  {
   "cell_type": "code",
   "execution_count": 512,
   "id": "fdcbd6b2",
   "metadata": {},
   "outputs": [
    {
     "name": "stdout",
     "output_type": "stream",
     "text": [
      "**********\n",
      "****  ****\n",
      "***    ***\n",
      "**      **\n",
      "*        *\n",
      "*        *\n",
      "**      **\n",
      "***    ***\n",
      "****  ****\n",
      "**********\n"
     ]
    }
   ],
   "source": [
    "n=10\n",
    "i=1\n",
    "while i<=n:\n",
    "    if i==1 or i==10:\n",
    "        print(\"*\"*(n))\n",
    "    elif i==1 or i==2 or i==3 or i==4 or i==5:\n",
    "        print(\"*\"*((n-4)-i)+\"  \"*(i-1)+\"*\"*(6-i))\n",
    "    else:\n",
    "        print(\"*\"*(i-5)+\"  \"*(n-i)+\"*\"*(i-5))\n",
    "    i=i+1"
   ]
  },
  {
   "cell_type": "code",
   "execution_count": 1,
   "id": "c72dbcfc",
   "metadata": {
    "scrolled": true
   },
   "outputs": [
    {
     "data": {
      "text/plain": [
       "'C:\\\\Users\\\\MOHAN P R'"
      ]
     },
     "execution_count": 1,
     "metadata": {},
     "output_type": "execute_result"
    }
   ],
   "source": [
    "pwd"
   ]
  }
 ],
 "metadata": {
  "kernelspec": {
   "display_name": "Python 3 (ipykernel)",
   "language": "python",
   "name": "python3"
  },
  "language_info": {
   "codemirror_mode": {
    "name": "ipython",
    "version": 3
   },
   "file_extension": ".py",
   "mimetype": "text/x-python",
   "name": "python",
   "nbconvert_exporter": "python",
   "pygments_lexer": "ipython3",
   "version": "3.9.12"
  },
  "toc": {
   "base_numbering": 1,
   "nav_menu": {},
   "number_sections": true,
   "sideBar": true,
   "skip_h1_title": false,
   "title_cell": "Table of Contents",
   "title_sidebar": "Contents",
   "toc_cell": false,
   "toc_position": {},
   "toc_section_display": true,
   "toc_window_display": false
  }
 },
 "nbformat": 4,
 "nbformat_minor": 5
}
